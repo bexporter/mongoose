{
  "nbformat": 4,
  "nbformat_minor": 0,
  "metadata": {
    "kernelspec": {
      "name": "python3",
      "display_name": "Python 3"
    },
    "colab": {
      "name": "Copy of Activity_Basic_Looping.ipynb",
      "provenance": [],
      "include_colab_link": true
    }
  },
  "cells": [
    {
      "cell_type": "markdown",
      "metadata": {
        "id": "view-in-github",
        "colab_type": "text"
      },
      "source": [
        "<a href=\"https://colab.research.google.com/github/bexporter/mongoose/blob/master/Copy_of_Activity_Basic_Looping.ipynb\" target=\"_parent\"><img src=\"https://colab.research.google.com/assets/colab-badge.svg\" alt=\"Open In Colab\"/></a>"
      ]
    },
    {
      "cell_type": "markdown",
      "metadata": {
        "id": "swyTSVhy5Z2T"
      },
      "source": [
        "<table border=\"0\" align=\"left\" width=\"700\" height=\"144\">\n",
        "<tbody>\n",
        "<tr>\n",
        "<td width=\"120\"><img width=\"100\" src=\"https://static1.squarespace.com/static/5992c2c7a803bb8283297efe/t/59c803110abd04d34ca9a1f0/1530629279239/\" /></td>\n",
        "<td style=\"width: 600px; height: 67px;\">\n",
        "<h1 style=\"text-align: left;\">Activity: Basic Looping</h1>\n",
        "<p><a href=\"https://colab.research.google.com/github/KenzieAcademy/python-notebooks/blob/master/Activity_Basic_Looping.ipynb\"> <img src=\"https://colab.research.google.com/assets/colab-badge.svg\" alt=\"Open In Colab\" align=\"left\" width=\"188\" height=\"32\" /> </a></p>\n",
        "</td>\n",
        "</tr>\n",
        "</tbody>\n",
        "</table>"
      ]
    },
    {
      "cell_type": "markdown",
      "metadata": {
        "id": "bzZ2fDYN5Z2U"
      },
      "source": [
        "## Instructions\n",
        "\n",
        "**Use SHIFT+ENTER to run each cell.**\n",
        "These exercises use a tool called Juptyer Notebook. Here are some quick guidelines:\n",
        "\n",
        "- Each block of python code is called a cell.\n",
        "- You are running an actual python program, cell-by-cell.\n",
        "- You can edit and re-run the code cells in place without overwriting the original notebook.\n",
        "- Don't worry about the In [x]: or Out [y]: notations on the left margin.\n",
        "- Variables are remembered between cells.\n",
        "- Please use the `print()` function when displaying your answers.\n",
        "- Don't worry about formatting your output to print everything on a single line."
      ]
    },
    {
      "cell_type": "markdown",
      "metadata": {
        "id": "RJVV-wfY5Z2U"
      },
      "source": [
        "### Let us begin..."
      ]
    },
    {
      "cell_type": "markdown",
      "metadata": {
        "id": "ygDksKpP5Z2V"
      },
      "source": [
        "### 1.\n",
        "Print a list of integers from 1 to 20.\n",
        "\n",
        "Example:\n",
        "```\n",
        "[1, 2, 3, ..., 19, 20]\n",
        "```"
      ]
    },
    {
      "cell_type": "code",
      "metadata": {
        "id": "r4qdL8Sd5Z2W",
        "colab": {
          "base_uri": "https://localhost:8080/"
        },
        "outputId": "1e39e17a-8e2c-4d60-a820-48364ced2ba5"
      },
      "source": [
        "print('Integers from 1 to 20:')\n",
        "print(list(range(1,21)))"
      ],
      "execution_count": null,
      "outputs": [
        {
          "output_type": "stream",
          "text": [
            "Integers from 1 to 20:\n",
            "[1, 2, 3, 4, 5, 6, 7, 8, 9, 10, 11, 12, 13, 14, 15, 16, 17, 18, 19, 20]\n"
          ],
          "name": "stdout"
        }
      ]
    },
    {
      "cell_type": "markdown",
      "metadata": {
        "id": "vSpiTNcT5Z2Z"
      },
      "source": [
        "### 2.\n",
        "Print a list containing only the even numbers from 1 to 20. Remember that `range()` accepts 3 arguments...\n",
        "\n",
        "Example:\n",
        "```\n",
        "[2, 4, 6, ..., 18, 20]\n",
        "```"
      ]
    },
    {
      "cell_type": "code",
      "metadata": {
        "id": "n8CgljUa5Z2a",
        "colab": {
          "base_uri": "https://localhost:8080/"
        },
        "outputId": "ef2e7da1-aa6a-4689-c4be-abd17e2c30ba"
      },
      "source": [
        "print('Evens from 1 to 20:')\n",
        "print(list(range(0,21,2)))"
      ],
      "execution_count": null,
      "outputs": [
        {
          "output_type": "stream",
          "text": [
            "Evens from 1 to 20:\n",
            "[0, 2, 4, 6, 8, 10, 12, 14, 16, 18, 20]\n"
          ],
          "name": "stdout"
        }
      ]
    },
    {
      "cell_type": "markdown",
      "metadata": {
        "id": "o39ynB6D5Z2c"
      },
      "source": [
        "### 3.\n",
        "Print a list containing only the odd numbers from 1 to 20.\n",
        "\n",
        "Example:\n",
        "```\n",
        "[1, 3, 5, ..., 17, 19]\n",
        "```"
      ]
    },
    {
      "cell_type": "code",
      "metadata": {
        "id": "m63pBrvp5Z2d",
        "colab": {
          "base_uri": "https://localhost:8080/"
        },
        "outputId": "24b4558c-8ecb-47b8-8a71-cbda24f6be61"
      },
      "source": [
        "print('Odds from 1 to 20:')\n",
        "print(list(range(1,21,2)))"
      ],
      "execution_count": null,
      "outputs": [
        {
          "output_type": "stream",
          "text": [
            "Odds from 1 to 20:\n",
            "[1, 3, 5, 7, 9, 11, 13, 15, 17, 19]\n"
          ],
          "name": "stdout"
        }
      ]
    },
    {
      "cell_type": "markdown",
      "metadata": {
        "id": "tV0ustjT5Z2g"
      },
      "source": [
        "### 4.\n",
        "Print a list containing the multiples of 5, from 5 to 100.\n",
        "\n",
        "Example:\n",
        "```\n",
        "[5, 10, 15, ..., 95, 100]\n",
        "```"
      ]
    },
    {
      "cell_type": "code",
      "metadata": {
        "id": "E_B_h7wk5Z2g"
      },
      "source": [
        "print('Multiples of 5, from 5 to 100:')\n",
        "print(list(range(0,21,5)))"
      ],
      "execution_count": null,
      "outputs": []
    },
    {
      "cell_type": "markdown",
      "metadata": {
        "id": "FlLx_zJ_5Z2j"
      },
      "source": [
        "### 5.\n",
        "Print a list containing the squares of integers from 1 to 10.\n",
        "\n",
        "Example:\n",
        "```\n",
        "[1, 4, 9, ..., 81, 100]\n",
        "```"
      ]
    },
    {
      "cell_type": "code",
      "metadata": {
        "id": "K55Fmz7n5Z2j",
        "colab": {
          "base_uri": "https://localhost:8080/"
        },
        "outputId": "b0e45d6f-0901-4c05-989c-329654f02571"
      },
      "source": [
        "print('Squares of integers from 1 to 10:')\n",
        "for i in range(1, 11):\n",
        "  print(pow(i, 2))\n",
        "\n",
        "  "
      ],
      "execution_count": null,
      "outputs": [
        {
          "output_type": "stream",
          "text": [
            "Squares of integers from 1 to 10:\n",
            "1\n",
            "4\n",
            "9\n",
            "16\n",
            "25\n",
            "36\n",
            "49\n",
            "64\n",
            "81\n",
            "100\n"
          ],
          "name": "stdout"
        }
      ]
    },
    {
      "cell_type": "markdown",
      "metadata": {
        "id": "1C5oIyu65Z2n"
      },
      "source": [
        "### 6.\n",
        "Print a list of integers, counting backwards from 20 to 1.\n",
        "\n",
        "Example:\n",
        "```\n",
        "[20, 19, 18, ..., 2, 1]\n",
        "```"
      ]
    },
    {
      "cell_type": "code",
      "metadata": {
        "id": "r21vTSF55Z2n",
        "colab": {
          "base_uri": "https://localhost:8080/"
        },
        "outputId": "e89befc8-425c-41e6-9e2b-29f150e7af41"
      },
      "source": [
        "print('Integers from 20 to 1:')\n",
        "print(list(range(20,0,-1)))"
      ],
      "execution_count": null,
      "outputs": [
        {
          "output_type": "stream",
          "text": [
            "Integers from 20 to 1:\n",
            "[20, 19, 18, 17, 16, 15, 14, 13, 12, 11, 10, 9, 8, 7, 6, 5, 4, 3, 2, 1]\n"
          ],
          "name": "stdout"
        }
      ]
    },
    {
      "cell_type": "markdown",
      "metadata": {
        "id": "zZUOiNNr5Z2r"
      },
      "source": [
        "### 7.\n",
        "Print a list containing only the even numbers, counting backwards from 20 to 2.\n",
        "\n",
        "Example:\n",
        "```\n",
        "[20, 18, 16, ..., 4, 2]\n",
        "```"
      ]
    },
    {
      "cell_type": "code",
      "metadata": {
        "id": "ykBB_bUO5Z2s",
        "colab": {
          "base_uri": "https://localhost:8080/"
        },
        "outputId": "bfb13abf-06d1-4915-98c9-2472507996d7"
      },
      "source": [
        "print('Evens from 20 to 2:')\n",
        "print(list(range(20,0,-2)))"
      ],
      "execution_count": null,
      "outputs": [
        {
          "output_type": "stream",
          "text": [
            "Evens from 20 to 2:\n",
            "[20, 18, 16, 14, 12, 10, 8, 6, 4, 2]\n"
          ],
          "name": "stdout"
        }
      ]
    },
    {
      "cell_type": "markdown",
      "metadata": {
        "id": "RAXE1DWj5Z2u"
      },
      "source": [
        "### 8.\n",
        "Print a list containing only the odd numbers from 20 to 1, counting backwards.\n",
        "\n",
        "Example:\n",
        "```\n",
        "[19, 17, 15, ..., 3, 1]\n",
        "```"
      ]
    },
    {
      "cell_type": "code",
      "metadata": {
        "id": "lpx_-7rZ5Z2v",
        "colab": {
          "base_uri": "https://localhost:8080/"
        },
        "outputId": "45fd6825-a01a-414b-9d71-a8d3e692cb25"
      },
      "source": [
        "print('Odds from 20 to 1:')\n",
        "print(list(range(19,0,-2)))"
      ],
      "execution_count": null,
      "outputs": [
        {
          "output_type": "stream",
          "text": [
            "Odds from 20 to 1:\n",
            "[19, 17, 15, 13, 11, 9, 7, 5, 3, 1]\n"
          ],
          "name": "stdout"
        }
      ]
    },
    {
      "cell_type": "markdown",
      "metadata": {
        "id": "3xGmBW2i5Z2x"
      },
      "source": [
        "### 9.\n",
        "Print a list containing the multiples of 5, counting down from 100.\n",
        "\n",
        "Example:\n",
        "```\n",
        "[100, 95, 90, ..., 10, 5]\n",
        "```"
      ]
    },
    {
      "cell_type": "code",
      "metadata": {
        "id": "-kP5OhH35Z2x",
        "colab": {
          "base_uri": "https://localhost:8080/"
        },
        "outputId": "426a3790-1715-4d45-c5f3-39e19ff32d12"
      },
      "source": [
        "print('Multiples of 5 descending from 100 to 5:')\n",
        "print(list(range(100,4,-5)))"
      ],
      "execution_count": null,
      "outputs": [
        {
          "output_type": "stream",
          "text": [
            "Multiples of 5 descending from 100 to 5:\n",
            "[100, 95, 90, 85, 80, 75, 70, 65, 60, 55, 50, 45, 40, 35, 30, 25, 20, 15, 10, 5]\n"
          ],
          "name": "stdout"
        }
      ]
    },
    {
      "cell_type": "markdown",
      "metadata": {
        "id": "PgjV5d5C5Z20"
      },
      "source": [
        "### 10.\n",
        "Print a list containing the square of integers, descending from 10 to 1.\n",
        "\n",
        "Example:\n",
        "```\n",
        "[100, 81, 64, ..., 4, 1]\n",
        "```"
      ]
    },
    {
      "cell_type": "code",
      "metadata": {
        "id": "o-9Ar6M05Z20",
        "colab": {
          "base_uri": "https://localhost:8080/"
        },
        "outputId": "94b503bc-4db8-4e30-a827-c6b6972a29d7"
      },
      "source": [
        "print(\"Squares of integers descending from 10 to 1:\")\n",
        "for i in range(10, 0, -1):\n",
        "  print(pow(i,2))"
      ],
      "execution_count": null,
      "outputs": [
        {
          "output_type": "stream",
          "text": [
            "Squares of integers descending from 10 to 1:\n",
            "100\n",
            "81\n",
            "64\n",
            "49\n",
            "36\n",
            "25\n",
            "16\n",
            "9\n",
            "4\n",
            "1\n"
          ],
          "name": "stdout"
        }
      ]
    },
    {
      "cell_type": "code",
      "metadata": {
        "id": "QF_dKvkL5Z22"
      },
      "source": [
        "# Here's a static list to work with for the next cells\n",
        "sample_list = [\n",
        "    469, 755, 244, 245, 758, 450, \n",
        "    302, 20, 712, 71, 456, 21, 398, \n",
        "    339, 882, 848, 179, 535, 940, 472\n",
        "]"
      ],
      "execution_count": null,
      "outputs": []
    },
    {
      "cell_type": "markdown",
      "metadata": {
        "id": "ozy_qT7j5Z25"
      },
      "source": [
        "### 11.\n",
        "Print the elements of sample_list and the count of elements.\n"
      ]
    },
    {
      "cell_type": "code",
      "metadata": {
        "id": "XGkHl1eA5Z25",
        "colab": {
          "base_uri": "https://localhost:8080/"
        },
        "outputId": "2378dc15-4deb-4922-f5b2-545aceda79af"
      },
      "source": [
        "print(\"Elements and count of sample_list:\")\n",
        "for i in sample_list:\n",
        "  counted = sample_list.count(i)\n",
        "  print(i, counted)"
      ],
      "execution_count": null,
      "outputs": [
        {
          "output_type": "stream",
          "text": [
            "Elements and count of sample_list:\n",
            "469 1\n",
            "755 1\n",
            "244 1\n",
            "245 1\n",
            "758 1\n",
            "450 1\n",
            "302 1\n",
            "20 1\n",
            "712 1\n",
            "71 1\n",
            "456 1\n",
            "21 1\n",
            "398 1\n",
            "339 1\n",
            "882 1\n",
            "848 1\n",
            "179 1\n",
            "535 1\n",
            "940 1\n",
            "472 1\n"
          ],
          "name": "stdout"
        }
      ]
    },
    {
      "cell_type": "markdown",
      "metadata": {
        "id": "4bN5Epm55Z27"
      },
      "source": [
        "### 12.\n",
        "Print only the even numbers contained in sample_list and their count."
      ]
    },
    {
      "cell_type": "code",
      "metadata": {
        "id": "gn8bNLBn5Z28",
        "colab": {
          "base_uri": "https://localhost:8080/"
        },
        "outputId": "c12d3f8e-edd8-46b0-bd82-713c85e89aac"
      },
      "source": [
        "print(\"Even elements and their count:\")\n",
        "for i in sample_list:\n",
        "  if i % 2 == 0:\n",
        "    counted = sample_list.count(i)\n",
        "    print(i, counted)"
      ],
      "execution_count": null,
      "outputs": [
        {
          "output_type": "stream",
          "text": [
            "Even elements and their count:\n",
            "244 1\n",
            "758 1\n",
            "450 1\n",
            "302 1\n",
            "20 1\n",
            "712 1\n",
            "456 1\n",
            "398 1\n",
            "882 1\n",
            "848 1\n",
            "940 1\n",
            "472 1\n"
          ],
          "name": "stdout"
        }
      ]
    },
    {
      "cell_type": "markdown",
      "metadata": {
        "id": "9sWSwGXj5Z2-"
      },
      "source": [
        "### 13.\n",
        "Print only the odd numbers contained in sample_list and their count."
      ]
    },
    {
      "cell_type": "code",
      "metadata": {
        "id": "6GzTSySh5Z2-",
        "colab": {
          "base_uri": "https://localhost:8080/"
        },
        "outputId": "ee699686-addf-4b1a-f538-2e25ec4331aa"
      },
      "source": [
        "print(\"Odd elements and their count:\")\n",
        "for i in sample_list:\n",
        "  if i % 2 == 1:\n",
        "    counted = sample_list.count(i)\n",
        "    print(i, counted)"
      ],
      "execution_count": null,
      "outputs": [
        {
          "output_type": "stream",
          "text": [
            "Odd elements and their count:\n",
            "469 1\n",
            "755 1\n",
            "245 1\n",
            "71 1\n",
            "21 1\n",
            "339 1\n",
            "179 1\n",
            "535 1\n"
          ],
          "name": "stdout"
        }
      ]
    },
    {
      "cell_type": "markdown",
      "metadata": {
        "id": "jlLWnN9Q5Z3A"
      },
      "source": [
        "### 14.\n",
        "Print the square of each element in sample_list."
      ]
    },
    {
      "cell_type": "code",
      "metadata": {
        "id": "xhFSNi445Z3A",
        "colab": {
          "base_uri": "https://localhost:8080/"
        },
        "outputId": "f353d9db-7752-46a1-ddd9-8e7828aa068a"
      },
      "source": [
        "print(\"Squares of elements of sample_list:\")\n",
        "for i in sample_list:\n",
        "    print(pow(i,2))"
      ],
      "execution_count": null,
      "outputs": [
        {
          "output_type": "stream",
          "text": [
            "Squares of elements of sample_list:\n",
            "219961\n",
            "570025\n",
            "59536\n",
            "60025\n",
            "574564\n",
            "202500\n",
            "91204\n",
            "400\n",
            "506944\n",
            "5041\n",
            "207936\n",
            "441\n",
            "158404\n",
            "114921\n",
            "777924\n",
            "719104\n",
            "32041\n",
            "286225\n",
            "883600\n",
            "222784\n"
          ],
          "name": "stdout"
        }
      ]
    },
    {
      "cell_type": "code",
      "metadata": {
        "id": "IrN_zrYAbTyb"
      },
      "source": [
        ""
      ],
      "execution_count": null,
      "outputs": []
    },
    {
      "cell_type": "markdown",
      "metadata": {
        "id": "omChEJl55Z3D"
      },
      "source": [
        "### 15.\n",
        "Print the sum of all the integers from 1 to 20."
      ]
    },
    {
      "cell_type": "code",
      "metadata": {
        "id": "K9mCEmw65Z3E",
        "colab": {
          "base_uri": "https://localhost:8080/"
        },
        "outputId": "a5427fb0-f3e7-4f5f-8afe-8ec106a7dad8"
      },
      "source": [
        "print(\"Sum of integers from 1 to 20:\")\n",
        "print(sum(range(1, 21)))"
      ],
      "execution_count": null,
      "outputs": [
        {
          "output_type": "stream",
          "text": [
            "Sum of integers from 1 to 20:\n",
            "210\n"
          ],
          "name": "stdout"
        }
      ]
    },
    {
      "cell_type": "markdown",
      "metadata": {
        "id": "QWX5X-6A5Z3G"
      },
      "source": [
        "### 16.\n",
        "Print the sum of all the elements in sample_list."
      ]
    },
    {
      "cell_type": "code",
      "metadata": {
        "id": "Vd4yzR4O5Z3G",
        "colab": {
          "base_uri": "https://localhost:8080/"
        },
        "outputId": "52142028-664b-426f-f485-50ea7ea520a5"
      },
      "source": [
        "print(\"Sum of elements of sample_list:\")\n",
        "print(sum(sample_list))"
      ],
      "execution_count": null,
      "outputs": [
        {
          "output_type": "stream",
          "text": [
            "Sum of elements of sample_list:\n",
            "9096\n"
          ],
          "name": "stdout"
        }
      ]
    },
    {
      "cell_type": "markdown",
      "metadata": {
        "id": "sgGQm9sW5Z3I"
      },
      "source": [
        "### 17.\n",
        "Print the smallest (min) element in sample_list."
      ]
    },
    {
      "cell_type": "code",
      "metadata": {
        "id": "gWbkmj2Z5Z3I",
        "colab": {
          "base_uri": "https://localhost:8080/"
        },
        "outputId": "015722bc-5ceb-4e4e-9c8e-0a58458d32e3"
      },
      "source": [
        "print(\"Smallest (min) element of sample_list:\")\n",
        "print(min(sample_list))"
      ],
      "execution_count": null,
      "outputs": [
        {
          "output_type": "stream",
          "text": [
            "Smallest (min) element of sample_list:\n",
            "20\n"
          ],
          "name": "stdout"
        }
      ]
    },
    {
      "cell_type": "markdown",
      "metadata": {
        "id": "p1zUMcrX5Z3K"
      },
      "source": [
        "### 18.\n",
        "Print the largest (max) element in sample_list."
      ]
    },
    {
      "cell_type": "code",
      "metadata": {
        "id": "cXinDtCd5Z3L",
        "colab": {
          "base_uri": "https://localhost:8080/"
        },
        "outputId": "3657ed52-c980-4d30-ac40-13ce2594d869"
      },
      "source": [
        "print(\"Largest (max) element of sample_list:\")\n",
        "print(max(sample_list))"
      ],
      "execution_count": null,
      "outputs": [
        {
          "output_type": "stream",
          "text": [
            "Largest (max) element of sample_list:\n",
            "940\n"
          ],
          "name": "stdout"
        }
      ]
    },
    {
      "cell_type": "markdown",
      "metadata": {
        "id": "Kx5RTa4P5Z3N"
      },
      "source": [
        "## NICE JOB! You are done!"
      ]
    },
    {
      "cell_type": "markdown",
      "metadata": {
        "id": "u2y-xmhj5Z3N"
      },
      "source": [
        "_This looping notebook prepared by: C1.JakeBerg_"
      ]
    }
  ]
}